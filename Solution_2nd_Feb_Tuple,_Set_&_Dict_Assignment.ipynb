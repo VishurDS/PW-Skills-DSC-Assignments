{
  "nbformat": 4,
  "nbformat_minor": 0,
  "metadata": {
    "colab": {
      "provenance": []
    },
    "kernelspec": {
      "name": "python3",
      "display_name": "Python 3"
    },
    "language_info": {
      "name": "python"
    }
  },
  "cells": [
    {
      "cell_type": "markdown",
      "source": [
        "Q1. What are the characteristics of the tuples? Is tuple immutable?\n",
        "\n",
        "Ans:\n",
        "\n",
        "Following are the characteristics of Tuples:\n",
        "\n",
        "1)Tuples are immutable\n",
        "\n",
        "2)Tuples are ordered and allows the duplicate values\n",
        "\n",
        "3)Tuples have fixed length\n",
        "\n",
        "4)Tuples are used when we don't want our data to be altered."
      ],
      "metadata": {
        "id": "Eivr6SghJ5he"
      }
    },
    {
      "cell_type": "markdown",
      "source": [
        "Q2. What are the two tuple methods in python? Give an example of each method. Give a reason why tuples have only two in-built methods as compared to Lists.\n",
        "\n",
        "Ans:\n",
        "Tuple have only two methods which are  index() and count()\n",
        "\n",
        "\n",
        "There are only two built-in methods that can be used on a tuple. This is because methods that can add or remove items are not available in the tuple. Since tuple is immutable, therefore, it does not change after the initial assigning of items.\n",
        "\n",
        "Following are example of two method index() and count():\n"
      ],
      "metadata": {
        "id": "fizY3YWRLJ4k"
      }
    },
    {
      "cell_type": "code",
      "execution_count": null,
      "metadata": {
        "id": "ugsJpWzWHhXL"
      },
      "outputs": [],
      "source": [
        "tup = (15,32,49,35,53,67,35)"
      ]
    },
    {
      "cell_type": "code",
      "source": [
        "tup.index(32)  #this method will find the index of first occurance of 32"
      ],
      "metadata": {
        "colab": {
          "base_uri": "https://localhost:8080/"
        },
        "id": "VMfhP_u_MLyl",
        "outputId": "c5ba9c11-70dc-4509-9d82-f845371d68e8"
      },
      "execution_count": null,
      "outputs": [
        {
          "output_type": "execute_result",
          "data": {
            "text/plain": [
              "1"
            ]
          },
          "metadata": {},
          "execution_count": 6
        }
      ]
    },
    {
      "cell_type": "code",
      "source": [
        "tup.count(35) #this method will find total number of occurance in tup"
      ],
      "metadata": {
        "colab": {
          "base_uri": "https://localhost:8080/"
        },
        "id": "ti0TwCGpMX0E",
        "outputId": "9fd02d58-533c-4289-e060-6a868dca39b0"
      },
      "execution_count": null,
      "outputs": [
        {
          "output_type": "execute_result",
          "data": {
            "text/plain": [
              "2"
            ]
          },
          "metadata": {},
          "execution_count": 7
        }
      ]
    },
    {
      "cell_type": "markdown",
      "source": [
        "Q3. Which collection datatypes in python do not allow duplicate items?\n",
        " Write a code using a set to remove duplicates from the given list.\n",
        "\n",
        " List = [1, 1, 1, 2, 1, 3, 1, 4, 2, 1, 2, 2, 2, 3, 2, 4, 3, 1, 3, 2, 3, 3, 3, 4, 4, 1, 4, 2, 4, 3, 4, 4]\n",
        "\n",
        " Ans:\n",
        "\n",
        " Sets is collection datatype in python that does not allow the duplicate items.\n",
        "\n",
        " Following is the code to remove duplicates from the given list\n",
        "\n"
      ],
      "metadata": {
        "id": "8KQrC0UqMq4C"
      }
    },
    {
      "cell_type": "code",
      "source": [
        "#gievn list\n",
        "lst1 = [1, 1, 1, 2, 1, 3, 1, 4, 2, 1, 2, 2, 2, 3, 2, 4, 3, 1, 3, 2, 3, 3, 3, 4, 4, 1, 4, 2, 4, 3, 4, 4]\n",
        "\n",
        "#let us remove the duplicates by converting the lst1 in sets\n",
        "dup_removed =  list(set(lst1))\n",
        "print(\"list without duplicates is\", dup_removed)"
      ],
      "metadata": {
        "colab": {
          "base_uri": "https://localhost:8080/"
        },
        "id": "IHhzhgLXMjmC",
        "outputId": "ce16e4e5-47a4-4ac2-cdb4-d1ef0a5fdbd5"
      },
      "execution_count": null,
      "outputs": [
        {
          "output_type": "stream",
          "name": "stdout",
          "text": [
            "list without duplicates is [1, 2, 3, 4]\n"
          ]
        }
      ]
    },
    {
      "cell_type": "markdown",
      "source": [
        "Q4. Explain the difference between the union() and update() methods for a set. Give an example of each method.\n",
        "\n",
        "Ans:\n",
        "\n",
        "Difference between the union() method and the update() method is that union() returns a new set that contains all the elements from both sets, while update() modifies one of the sets to include all the elements from both sets.\n",
        "\n",
        "Following are example of each method."
      ],
      "metadata": {
        "id": "byIdr1ILM445"
      }
    },
    {
      "cell_type": "code",
      "source": [
        "#union() method\n",
        "\n",
        "set1 = {1,2,6,4,7,8,9}\n",
        "set2 = {5,4,8,0,6,3,11}\n",
        "\n",
        "#now let us use the union() method\n",
        "\n",
        "set1.union(set2)\n",
        "\n",
        "#Here both set1 and set2 remains unchanged and new set is created which is union of both set1 and set2"
      ],
      "metadata": {
        "colab": {
          "base_uri": "https://localhost:8080/"
        },
        "id": "JeGYx06GM6dK",
        "outputId": "9ec8d17e-d880-4b4a-d1ec-64bfc4e0446a"
      },
      "execution_count": null,
      "outputs": [
        {
          "output_type": "execute_result",
          "data": {
            "text/plain": [
              "{0, 1, 2, 3, 4, 5, 6, 7, 8, 9, 11}"
            ]
          },
          "metadata": {},
          "execution_count": 3
        }
      ]
    },
    {
      "cell_type": "code",
      "source": [
        "#update method\n",
        "\n",
        "set1.update(set2)\n",
        "\n",
        "#let us print the set1 which will be modified and set2 will merged in set1\n",
        "print(set1)"
      ],
      "metadata": {
        "colab": {
          "base_uri": "https://localhost:8080/"
        },
        "id": "F6pcJXbGU1q2",
        "outputId": "621aa09c-047a-4034-adba-aabff46846a4"
      },
      "execution_count": null,
      "outputs": [
        {
          "output_type": "stream",
          "name": "stdout",
          "text": [
            "{0, 1, 2, 3, 4, 5, 6, 7, 8, 9, 11}\n"
          ]
        }
      ]
    },
    {
      "cell_type": "markdown",
      "source": [
        "Q5. What is a dictionary? Give an example. Also, state whether a dictionary is ordered or unordered.\n",
        "\n",
        "Ans:\n",
        "\n",
        "Dictionary in python is mutable data structure that allow you to store key-value pairs.\n",
        "\n",
        "It is ordered data structure and does not allow duplicate values."
      ],
      "metadata": {
        "id": "__g2ztXoM9w9"
      }
    },
    {
      "cell_type": "markdown",
      "source": [
        "Q6. Can we create a nested dictionary? If so, please give an example by creating a simple one-level nested dictionary.\n",
        "\n",
        "Ans:\n",
        "\n",
        "Yes, nested dictionary i.e. dictionary inside a dictionary is possible in pytho and python supports it.\n",
        "\n",
        "Following is example of simple one-level nested dictionary"
      ],
      "metadata": {
        "id": "g46mdujsNCEY"
      }
    },
    {
      "cell_type": "code",
      "source": [
        "dict1 =  {\"color\":{\"red\",\"blue\",\"black\"}, \"numbers\":{1,2,3,4,5,6}}"
      ],
      "metadata": {
        "id": "2CUNwaEJNDiH"
      },
      "execution_count": 1,
      "outputs": []
    },
    {
      "cell_type": "markdown",
      "source": [
        "Q7. Using setdefault() method, create key named 'topics' in the given dictionary and also add the value of the key as this list\n",
        "\n",
        "['Python', 'Machine Learning’, 'Deep Learning']\n",
        "\n",
        "dict1 = {'language' : 'Python', 'course': 'Data Science Masters'}\n",
        "\n",
        "Ans:\n",
        "\n",
        "Python Dictionary setdefault() returns the value of a key (if the key is in dictionary). Else, it inserts a key with the default value to the dictionary."
      ],
      "metadata": {
        "id": "N3-AuzCQNGe1"
      }
    },
    {
      "cell_type": "code",
      "source": [
        "#given dictionary\n",
        "dict1 = {'language' : 'Python', 'course': 'Data Science Masters'}\n",
        "\n",
        "#using setdefault method\n",
        "\n",
        "dict1.setdefault('topics', ['Python','Machine Learning','Deep Learning'])\n",
        "\n",
        "#print dict1 after set default\n",
        "print(dict1)"
      ],
      "metadata": {
        "id": "O_OkBDETNHWC",
        "colab": {
          "base_uri": "https://localhost:8080/"
        },
        "outputId": "e2c28f56-ca2e-4477-e8a7-0d3cffc3ae97"
      },
      "execution_count": 3,
      "outputs": [
        {
          "output_type": "stream",
          "name": "stdout",
          "text": [
            "{'language': 'Python', 'course': 'Data Science Masters', 'topics': ['Python', 'Machine Learning', 'Deep Learning']}\n"
          ]
        }
      ]
    },
    {
      "cell_type": "markdown",
      "source": [
        "Q8. What are the three view objects in dictionaries? Use the three in-built methods in python to display these three view objects for the given dictionary.\n",
        "\n",
        "dict1 = {'Sport': 'Cricket' , 'Teams': ['India', 'Australia', 'England', 'South Africa', 'Sri Lanka', 'New Zealand']}\n",
        "\n",
        "Ans:  \n",
        "\n",
        "In Python, there are three dictionary view objects: keys() — shows us all the keys of a given dictionary, as a sequence.\n",
        "\n",
        "values() — shows us all values of a dictionary, as a sequence.\n",
        "\n",
        "items() — shows us all the key-value pairs of a dictionary, once again as a sequence.\n",
        "\n",
        "Following three view of dict1\n"
      ],
      "metadata": {
        "id": "SSnien9dNVRf"
      }
    },
    {
      "cell_type": "code",
      "source": [
        "#given dictionary\n",
        "\n",
        "dict1 = {'Sport': 'Cricket' , 'Teams': ['India', 'Australia', 'England', 'South Africa', 'Sri Lanka', 'New Zealand']}"
      ],
      "metadata": {
        "id": "KY-z8CEDNWaH"
      },
      "execution_count": 1,
      "outputs": []
    },
    {
      "cell_type": "code",
      "source": [
        "#To show keys of dict1\n",
        "\n",
        "for x in dict1.keys():\n",
        "  print(x)"
      ],
      "metadata": {
        "colab": {
          "base_uri": "https://localhost:8080/"
        },
        "id": "rtla8aXmUuzS",
        "outputId": "87b3a2cf-1d74-4a16-8c4a-8a38f6187174"
      },
      "execution_count": 2,
      "outputs": [
        {
          "output_type": "stream",
          "name": "stdout",
          "text": [
            "Sport\n",
            "Teams\n"
          ]
        }
      ]
    },
    {
      "cell_type": "code",
      "source": [
        "#to show values of dict1\n",
        "\n",
        "for x in dict1.values():\n",
        "  print(x)"
      ],
      "metadata": {
        "colab": {
          "base_uri": "https://localhost:8080/"
        },
        "id": "cgXMct6UVKZw",
        "outputId": "32f065c8-1d9a-4f76-95d6-aefed25b0885"
      },
      "execution_count": 3,
      "outputs": [
        {
          "output_type": "stream",
          "name": "stdout",
          "text": [
            "Cricket\n",
            "['India', 'Australia', 'England', 'South Africa', 'Sri Lanka', 'New Zealand']\n"
          ]
        }
      ]
    },
    {
      "cell_type": "code",
      "source": [
        "#to show items of dict1\n",
        "\n",
        "for x,y in dict1.items():\n",
        "  print(\"Key of dict1\",x,\"its corresponding value is\", y)"
      ],
      "metadata": {
        "colab": {
          "base_uri": "https://localhost:8080/"
        },
        "id": "C2LJuR60VVix",
        "outputId": "63442f69-baf8-4aac-e6c4-c0c7a16f838d"
      },
      "execution_count": 10,
      "outputs": [
        {
          "output_type": "stream",
          "name": "stdout",
          "text": [
            "Key of dict1 Sport its corresponding value is Cricket\n",
            "Key of dict1 Teams its corresponding value is ['India', 'Australia', 'England', 'South Africa', 'Sri Lanka', 'New Zealand']\n"
          ]
        }
      ]
    },
    {
      "cell_type": "code",
      "source": [],
      "metadata": {
        "id": "-alt-q7NVenX"
      },
      "execution_count": null,
      "outputs": []
    }
  ]
}