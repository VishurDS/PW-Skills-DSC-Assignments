{
  "nbformat": 4,
  "nbformat_minor": 0,
  "metadata": {
    "colab": {
      "provenance": []
    },
    "kernelspec": {
      "name": "python3",
      "display_name": "Python 3"
    },
    "language_info": {
      "name": "python"
    }
  },
  "cells": [
    {
      "cell_type": "markdown",
      "source": [
        "Q1. Create a function which will take a list as an argument and return the product of all the numbers  after creating a flat list.\n",
        "\n",
        " Use the below-given list as an argument for your function.\n",
        "\n",
        " list1 = [1,2,3,4, [44,55,66, True], False, (34,56,78,89,34), {1,2,3,3,2,1}, {1:34, \"key2\": [55, 67, 78, 89], 4: (45, 22, 61, 34)}, [56, 'data science'],'Machine Learning']\n",
        "\n",
        " Note: you must extract numeric keys and values of the dictionary also"
      ],
      "metadata": {
        "id": "CKv6SWcGKTn6"
      }
    },
    {
      "cell_type": "code",
      "execution_count": 3,
      "metadata": {
        "colab": {
          "base_uri": "https://localhost:8080/"
        },
        "id": "WHU3FdTcJ7hn",
        "outputId": "72b0effd-579b-4f2a-8ab4-b64eebe98833"
      },
      "outputs": [
        {
          "output_type": "stream",
          "name": "stdout",
          "text": [
            "[1, 2, 3, 4, [44, 55, 66, True], False, (34, 56, 78, 89, 34), {1, 2, 3}, {1: 34, 'key2': [55, 67, 78, 89], 4: (45, 22, 61, 34)}, [56, 'data science'], 'Machine Learning']\n"
          ]
        }
      ],
      "source": [
        "#Given list\n",
        "\n",
        "list1 = [1,2,3,4, [44,55,66, True], False, (34,56,78,89,34), {1,2,3,3,2,1},\n",
        " {1:34, \"key2\": [55, 67, 78, 89], 4: (45, 22, 61, 34)}, [56, 'data science'],\n",
        "         'Machine Learning']\n",
        "\n",
        "print(list1)"
      ]
    },
    {
      "cell_type": "code",
      "source": [
        "def extract1(l1):\n",
        "  product = 1\n",
        "  for x in l1:\n",
        "    if type(x) == int or type(x) == float:\n",
        "      product = x * product\n",
        "    elif type(x) == list or type(x) == tuple or type(x) == set:\n",
        "      for x1 in x:\n",
        "        if type(x1) == int or type(x) == float:\n",
        "          product = x1 * product\n",
        "        else:\n",
        "          pass\n",
        "    elif type(x) == dict:\n",
        "      for k1, v1 in x.items():\n",
        "        if type(k1) == int or type(k1) == float:\n",
        "          product =  product * k1\n",
        "        elif type(v1) == list or type(v1) == tuple or type(v1) == set:\n",
        "          for x2 in v1:\n",
        "            if type(x2) == int or type(x2) == float:\n",
        "              proudct =  product * x2\n",
        "            else:\n",
        "              pass\n",
        "        else:\n",
        "          pass\n",
        "    else:\n",
        "      pass\n",
        "  return product\n",
        ""
      ],
      "metadata": {
        "id": "yNVnQGq-KlkN"
      },
      "execution_count": 17,
      "outputs": []
    },
    {
      "cell_type": "code",
      "source": [
        "extract1(list1)"
      ],
      "metadata": {
        "colab": {
          "base_uri": "https://localhost:8080/"
        },
        "id": "7XJ0VeaCOPUx",
        "outputId": "3749da26-108f-48d8-86da-56b40b0210e5"
      },
      "execution_count": 18,
      "outputs": [
        {
          "output_type": "execute_result",
          "data": {
            "text/plain": [
              "2315262738624675840"
            ]
          },
          "metadata": {},
          "execution_count": 18
        }
      ]
    },
    {
      "cell_type": "markdown",
      "source": [
        " Q2. Write a python program for encrypting a message sent to you by your friend. The logic of encryption should be such that, for a the output should be z. For b, the output should be y. For c, the output should  be x respectively. Also, the whitespace should be replaced with a dollar sign. Keep the punctuation marks unchanged.\n",
        "\n",
        "\n",
        " Input Sentence: I want to become a Data Scientist.\n",
        "\n",
        " Encrypt the above input sentence using the program you just created.\n",
        "\n",
        " Note: Convert the given input sentence into lowercase before encrypting. The final output should be lowercase"
      ],
      "metadata": {
        "id": "1bsQkNVtQx6E"
      }
    },
    {
      "cell_type": "code",
      "source": [
        "#let us create lists of alphabets\n",
        "cryptd_msg = list('zyxwvutsrqponmlkjihgfedcba.$')\n",
        "msg = list('abcdefghijklmnopqrstuvwxyz. ')\n",
        "print(cryptd_msg)\n",
        "print(msg)\n",
        "\n",
        "#input sentence is\n",
        "input_str = \"I want to become a Data Scientist.\"\n",
        "\n",
        "#let's convert the given string in lower case\n",
        "input_str = input_str.lower()\n",
        "\n",
        "print(f\"Input sentence is: {input_str}\")\n",
        "\n",
        "#code\n",
        "\n",
        "encrypted_msg = \"\"\n",
        "for x in input_str:\n",
        "  ind = msg.index(x)\n",
        "  encrypted_msg =  encrypted_msg + cryptd_msg[ind]\n",
        "\n",
        "print(f\"Encrypted msg is: {encrypted_msg}\")\n",
        "\n",
        ""
      ],
      "metadata": {
        "colab": {
          "base_uri": "https://localhost:8080/"
        },
        "id": "JP91ioWSOWgo",
        "outputId": "d60c8186-1311-4c23-882f-5cf94213fe48"
      },
      "execution_count": 19,
      "outputs": [
        {
          "output_type": "stream",
          "name": "stdout",
          "text": [
            "['z', 'y', 'x', 'w', 'v', 'u', 't', 's', 'r', 'q', 'p', 'o', 'n', 'm', 'l', 'k', 'j', 'i', 'h', 'g', 'f', 'e', 'd', 'c', 'b', 'a', '.', '$']\n",
            "['a', 'b', 'c', 'd', 'e', 'f', 'g', 'h', 'i', 'j', 'k', 'l', 'm', 'n', 'o', 'p', 'q', 'r', 's', 't', 'u', 'v', 'w', 'x', 'y', 'z', '.', ' ']\n",
            "Input sentence is: i want to become a data scientist.\n",
            "Encrypted msg is: r$dzmg$gl$yvxlnv$z$wzgz$hxrvmgrhg.\n"
          ]
        }
      ]
    },
    {
      "cell_type": "code",
      "source": [],
      "metadata": {
        "id": "QhwRv1yC_y-W"
      },
      "execution_count": null,
      "outputs": []
    }
  ]
}