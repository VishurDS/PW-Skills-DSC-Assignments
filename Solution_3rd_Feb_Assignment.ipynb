{
  "nbformat": 4,
  "nbformat_minor": 0,
  "metadata": {
    "colab": {
      "provenance": []
    },
    "kernelspec": {
      "name": "python3",
      "display_name": "Python 3"
    },
    "language_info": {
      "name": "python"
    }
  },
  "cells": [
    {
      "cell_type": "markdown",
      "source": [
        "### Functions Assignment Solution\n"
      ],
      "metadata": {
        "id": "1sKYJ6Og9Wpu"
      }
    },
    {
      "cell_type": "markdown",
      "source": [
        "Q1. Which keyword is used to create a function? Create a function to return a list of odd numbers in the\n",
        "range of 1 to 25.\n",
        "\n",
        "Answer: 'def' keyword is used to create a function in Python.\n",
        "\n",
        "Following is function to return the list of odd numbers in range of 1 to 25."
      ],
      "metadata": {
        "id": "hiUGS9J39Yxh"
      }
    },
    {
      "cell_type": "code",
      "source": [
        "#Function to return odd numbers\n",
        "nums = list(range(1,26))\n",
        "def odd_nums(lst):\n",
        "  odd_list = []\n",
        "  for i in lst:\n",
        "    if i % 2 != 0:\n",
        "      odd_list.append(i)\n",
        "  return odd_list"
      ],
      "metadata": {
        "id": "hzcaHeAE9nWo"
      },
      "execution_count": null,
      "outputs": []
    },
    {
      "cell_type": "code",
      "source": [
        "odd_nums(nums)"
      ],
      "metadata": {
        "colab": {
          "base_uri": "https://localhost:8080/"
        },
        "id": "UGT_AZTNAA9Z",
        "outputId": "9d358a73-b0fb-410c-c1cd-32fa742d7846"
      },
      "execution_count": null,
      "outputs": [
        {
          "output_type": "execute_result",
          "data": {
            "text/plain": [
              "[1, 3, 5, 7, 9, 11, 13, 15, 17, 19, 21, 23, 25]"
            ]
          },
          "metadata": {},
          "execution_count": 8
        }
      ]
    },
    {
      "cell_type": "markdown",
      "source": [
        "Q2. Why '*args' and '**kwargs' is used in some functions? Create a function each for *args and **kwargs to\n",
        "demonstrate their use.\n",
        "\n",
        "Answers:\n",
        "\n",
        "*args and **kwargs are used make python function flexible so that python function can accept variable number of arguments.\n",
        "\n",
        "\n",
        "*agrs allows you to pass variable number of positional arguments to a function and **kwargs allows you to pass variable number of keyword arguments (i.e. key value-pairs) to function.\n",
        "\n",
        "\n",
        "Following is the functions using *args and **kwargs\n",
        "\n"
      ],
      "metadata": {
        "id": "f4Jjpzah-QLT"
      }
    },
    {
      "cell_type": "code",
      "source": [
        "#function without *args\n",
        "\n",
        "def num_argmnt(a, b, c):\n",
        "  return a, b, c\n"
      ],
      "metadata": {
        "id": "l8znkr5HB1HZ"
      },
      "execution_count": null,
      "outputs": []
    },
    {
      "cell_type": "code",
      "source": [
        "num_argmnt(1,2,3)"
      ],
      "metadata": {
        "colab": {
          "base_uri": "https://localhost:8080/"
        },
        "id": "SAKpAOVBCO7L",
        "outputId": "96408731-83e3-4b4f-f7f9-99be6ad9525c"
      },
      "execution_count": null,
      "outputs": [
        {
          "output_type": "execute_result",
          "data": {
            "text/plain": [
              "(1, 2, 3)"
            ]
          },
          "metadata": {},
          "execution_count": 17
        }
      ]
    },
    {
      "cell_type": "code",
      "source": [
        "num_argmnt(1,2,3,4)"
      ],
      "metadata": {
        "colab": {
          "base_uri": "https://localhost:8080/",
          "height": 141
        },
        "id": "BdXoeHWGOkH1",
        "outputId": "797c8b29-aa80-4317-bb2d-ed3c089715df"
      },
      "execution_count": null,
      "outputs": [
        {
          "output_type": "error",
          "ename": "TypeError",
          "evalue": "num_argmnt() takes 3 positional arguments but 4 were given",
          "traceback": [
            "\u001b[0;31m---------------------------------------------------------------------------\u001b[0m",
            "\u001b[0;31mTypeError\u001b[0m                                 Traceback (most recent call last)",
            "\u001b[0;32m<ipython-input-18-8ea9734d2c16>\u001b[0m in \u001b[0;36m<cell line: 1>\u001b[0;34m()\u001b[0m\n\u001b[0;32m----> 1\u001b[0;31m \u001b[0mnum_argmnt\u001b[0m\u001b[0;34m(\u001b[0m\u001b[0;36m1\u001b[0m\u001b[0;34m,\u001b[0m\u001b[0;36m2\u001b[0m\u001b[0;34m,\u001b[0m\u001b[0;36m3\u001b[0m\u001b[0;34m,\u001b[0m\u001b[0;36m4\u001b[0m\u001b[0;34m)\u001b[0m\u001b[0;34m\u001b[0m\u001b[0;34m\u001b[0m\u001b[0m\n\u001b[0m",
            "\u001b[0;31mTypeError\u001b[0m: num_argmnt() takes 3 positional arguments but 4 were given"
          ]
        }
      ]
    },
    {
      "cell_type": "markdown",
      "source": [
        "So in above program if we pass the more than three arguments we are getting error. So to variable number of arguments to the function we *args"
      ],
      "metadata": {
        "id": "txd0Sg_XOnlF"
      }
    },
    {
      "cell_type": "code",
      "source": [
        "#function with *args\n",
        "\n",
        "def num_argmnt_1(*args):\n",
        "  return args\n"
      ],
      "metadata": {
        "id": "MBvJNbKSCZmK"
      },
      "execution_count": null,
      "outputs": []
    },
    {
      "cell_type": "code",
      "source": [
        "num_argmnt_1(2,3,5.6,True, 'PWSkills',[1,2,34])"
      ],
      "metadata": {
        "colab": {
          "base_uri": "https://localhost:8080/"
        },
        "id": "OPhUbchWO8z1",
        "outputId": "670af6a1-4383-409c-c738-6c338b7fad5c"
      },
      "execution_count": null,
      "outputs": [
        {
          "output_type": "execute_result",
          "data": {
            "text/plain": [
              "(2, 3, 5.6, True, 'PWSkills', [1, 2, 34])"
            ]
          },
          "metadata": {},
          "execution_count": 29
        }
      ]
    },
    {
      "cell_type": "markdown",
      "source": [
        "Same is the case with **kwargs. With **kwargs we can pass variable number of keyword (key-value pairs) arguments to function.\n",
        "\n"
      ],
      "metadata": {
        "id": "k2JaQAUKRTuj"
      }
    },
    {
      "cell_type": "code",
      "source": [
        "#function with **kwargs\n",
        "\n",
        "def kw_argment(**kwargs):\n",
        "  return kwargs"
      ],
      "metadata": {
        "id": "UdYUWwZ0Rt9c"
      },
      "execution_count": null,
      "outputs": []
    },
    {
      "cell_type": "code",
      "source": [
        "kw_argment(a = 35, b = 23, c = [1,2,3,4], d = (\"PW\", \"Skills\"))"
      ],
      "metadata": {
        "colab": {
          "base_uri": "https://localhost:8080/"
        },
        "id": "xFZgNmwjScLJ",
        "outputId": "7de984aa-ff99-4aad-d064-95c55551318a"
      },
      "execution_count": null,
      "outputs": [
        {
          "output_type": "execute_result",
          "data": {
            "text/plain": [
              "{'a': 35, 'b': 23, 'c': [1, 2, 3, 4], 'd': ('PW', 'Skills')}"
            ]
          },
          "metadata": {},
          "execution_count": 31
        }
      ]
    },
    {
      "cell_type": "markdown",
      "source": [
        "Q3. What is an iterator in python? Name the method used to initialise the iterator object and the method used for iteration. Use these methods to print the first five elements of the given list [2, 4, 6, 8, 10, 12, 14, 16,\n",
        "18, 20].\n",
        "\n",
        "\n",
        "Ans: In Python iterator is an object used to iterate accross iterable objects such list, tuple, dicts, sets etc.\n",
        "\n",
        "The iter() is method used to initialise the iterator object and next() is method used for iteration.\n",
        "\n",
        "Following is the program to print first five elements of given list"
      ],
      "metadata": {
        "id": "XLTV6Lxk-YYr"
      }
    },
    {
      "cell_type": "code",
      "source": [
        "#first let us assign the variable to list\n",
        "lst1 = [2, 4, 6, 8, 10, 12, 14, 16, 18, 20]\n",
        "\n",
        "#initializing the iterator\n",
        "\n",
        "list_iterator = iter(lst1)\n",
        "\n",
        "#printing first five elements using next(method)\n",
        "print(next(list_iterator))\n",
        "print(next(list_iterator))\n",
        "print(next(list_iterator))\n",
        "print(next(list_iterator))\n",
        "print(next(list_iterator))"
      ],
      "metadata": {
        "colab": {
          "base_uri": "https://localhost:8080/"
        },
        "id": "MgH9WDyUDbCx",
        "outputId": "9c7a64b3-ffef-40a9-836f-a60297bc9fcb"
      },
      "execution_count": null,
      "outputs": [
        {
          "output_type": "stream",
          "name": "stdout",
          "text": [
            "2\n",
            "4\n",
            "6\n",
            "8\n",
            "10\n"
          ]
        }
      ]
    },
    {
      "cell_type": "markdown",
      "source": [
        "Q4. What is a generator function in python? Why yield keyword is used? Give an example of a generator\n",
        "function.\n",
        "\n",
        "Ans: A Generator in Python is a function that returns an iterator using the Yield keyword.\n",
        "\n",
        "A generator function in Python is like a normal function, but whenever it needs to generate a value, it does so with the yield keyword rather than return. If the body of a def contains yield, the function automatically becomes a Python generator function.\n",
        "\n",
        "\n",
        "Following is the example of generator function:"
      ],
      "metadata": {
        "id": "iUn4gQ1B-eU2"
      }
    },
    {
      "cell_type": "code",
      "source": [
        "#defining the generator function\n",
        "\n",
        "def generator_function():\n",
        "  yield 'PW Skills'\n",
        "  yield True\n",
        "  yield 34\n",
        "  yield [1,4,53,6]\n",
        "\n",
        "#calling or iterating over generator function\n",
        "\n",
        "for i in generator_function():\n",
        "  print(i)"
      ],
      "metadata": {
        "colab": {
          "base_uri": "https://localhost:8080/"
        },
        "id": "LIscmqLaAHvN",
        "outputId": "5c1392f7-6e2f-4064-a291-03e6695d4a25"
      },
      "execution_count": 1,
      "outputs": [
        {
          "output_type": "stream",
          "name": "stdout",
          "text": [
            "PW Skills\n",
            "True\n",
            "34\n",
            "[1, 4, 53, 6]\n"
          ]
        }
      ]
    },
    {
      "cell_type": "markdown",
      "source": [
        "Q5. Create a generator function for prime numbers less than 1000. Use the next() method to print the\n",
        "first 20 prime numbers."
      ],
      "metadata": {
        "id": "5WHq2wyg-gnn"
      }
    },
    {
      "cell_type": "code",
      "source": [
        "def is_prime(num):\n",
        "    if num <= 1:\n",
        "        return False\n",
        "    for i in range(2, int(num**0.5) + 1):\n",
        "        if num % i == 0:\n",
        "          return False\n",
        "    return True\n",
        "\n",
        "\n",
        "def generate_prime(number):\n",
        "  for x in range(2, number+1):\n",
        "    if is_prime(x):\n",
        "      yield (x)"
      ],
      "metadata": {
        "id": "OGE1_l0X-exI"
      },
      "execution_count": 45,
      "outputs": []
    },
    {
      "cell_type": "code",
      "source": [
        "type(prime_numbers(1000))"
      ],
      "metadata": {
        "colab": {
          "base_uri": "https://localhost:8080/"
        },
        "id": "zi7-njAzI1La",
        "outputId": "80cbe18f-7102-4982-fddf-f31f813789bd"
      },
      "execution_count": 46,
      "outputs": [
        {
          "output_type": "execute_result",
          "data": {
            "text/plain": [
              "int"
            ]
          },
          "metadata": {},
          "execution_count": 46
        }
      ]
    },
    {
      "cell_type": "code",
      "source": [
        "prime_num = iter(generate_prime(1000))\n",
        "for i in range(1, 21):\n",
        "  print(next(prime_num))"
      ],
      "metadata": {
        "colab": {
          "base_uri": "https://localhost:8080/"
        },
        "id": "o4-rwVD2I9mU",
        "outputId": "61f964e2-f047-4b4b-c485-0bcaaa944731"
      },
      "execution_count": 47,
      "outputs": [
        {
          "output_type": "stream",
          "name": "stdout",
          "text": [
            "2\n",
            "3\n",
            "5\n",
            "7\n",
            "11\n",
            "13\n",
            "17\n",
            "19\n",
            "23\n",
            "29\n",
            "31\n",
            "37\n",
            "41\n",
            "43\n",
            "47\n",
            "53\n",
            "59\n",
            "61\n",
            "67\n",
            "71\n"
          ]
        }
      ]
    },
    {
      "cell_type": "code",
      "source": [],
      "metadata": {
        "id": "2VE-oN3DJEKF",
        "colab": {
          "base_uri": "https://localhost:8080/"
        },
        "outputId": "e8f996ec-8204-4350-f5de-527b5385a43d"
      },
      "execution_count": 28,
      "outputs": [
        {
          "output_type": "stream",
          "name": "stdout",
          "text": [
            "2\n"
          ]
        }
      ]
    },
    {
      "cell_type": "code",
      "source": [],
      "metadata": {
        "id": "hKm03hiDucPS"
      },
      "execution_count": null,
      "outputs": []
    }
  ]
}