{
  "nbformat": 4,
  "nbformat_minor": 0,
  "metadata": {
    "colab": {
      "provenance": []
    },
    "kernelspec": {
      "name": "python3",
      "display_name": "Python 3"
    },
    "language_info": {
      "name": "python"
    }
  },
  "cells": [
    {
      "cell_type": "markdown",
      "source": [
        "Q1. Create a python program to sort the given list of tuples based on integer value using a lambda function.\n",
        "\n",
        "[('Sachin Tendulkar', 34357), ('Ricky Ponting', 27483), ('Jack Kallis', 25534), ('Virat Kohli', 24936)]\n",
        "\n",
        "Ans:"
      ],
      "metadata": {
        "id": "pv-iuaThoADi"
      }
    },
    {
      "cell_type": "code",
      "source": [
        "#solving above problem using sort() method of list and lambda funciom\n",
        "\n",
        "list1 = [('Sachin Tendulkar', 34357), ('Ricky Ponting', 27483), ('Jack Kallis', 25534), ('Virat Kohli', 24936)]\n",
        "\n",
        "list1.sort(key=lambda   x: x[1])\n",
        "print(list1)"
      ],
      "metadata": {
        "colab": {
          "base_uri": "https://localhost:8080/"
        },
        "id": "57O-SGx1opZu",
        "outputId": "a42eb3e1-2a7b-47c8-fce7-844be8b22da4"
      },
      "execution_count": 2,
      "outputs": [
        {
          "output_type": "stream",
          "name": "stdout",
          "text": [
            "[('Virat Kohli', 24936), ('Jack Kallis', 25534), ('Ricky Ponting', 27483), ('Sachin Tendulkar', 34357)]\n"
          ]
        }
      ]
    },
    {
      "cell_type": "markdown",
      "source": [
        "Q2. Write a Python Program to find the squares of all the numbers in the given list of integers using lambda and map functions.\n",
        "\n",
        "[1, 2, 3, 4, 5, 6, 7, 8, 9, 10]\n",
        "\n",
        "Ans:"
      ],
      "metadata": {
        "id": "1t1XL2ryoAXN"
      }
    },
    {
      "cell_type": "code",
      "source": [
        "#using map and lambda function\n",
        "\n",
        "l2 = [1, 2, 3, 4, 5, 6, 7, 8, 9, 10]\n",
        "\n",
        "list(map((lambda x : x**2),l2))"
      ],
      "metadata": {
        "colab": {
          "base_uri": "https://localhost:8080/"
        },
        "id": "3W983c3w2Uj2",
        "outputId": "7d1771f0-212d-439c-ebb2-72895406aca4"
      },
      "execution_count": 3,
      "outputs": [
        {
          "output_type": "execute_result",
          "data": {
            "text/plain": [
              "[1, 4, 9, 16, 25, 36, 49, 64, 81, 100]"
            ]
          },
          "metadata": {},
          "execution_count": 3
        }
      ]
    },
    {
      "cell_type": "markdown",
      "source": [
        "Q3. Write a python program to convert the given list of integers into a tuple of strings. Use map and lambda functions.\n",
        "\n",
        "Given String: [1, 2, 3, 4, 5, 6, 7, 8, 9, 10]\n",
        "\n",
        "Expected output: ('1', '2', '3', '4', '5', '6', '7', '8', '9', '10')\n",
        "\n",
        "Ans:"
      ],
      "metadata": {
        "id": "D1lnH698oAdG"
      }
    },
    {
      "cell_type": "code",
      "source": [
        "#given list of integers\n",
        "\n",
        "string1 = [1, 2, 3, 4, 5, 6, 7, 8, 9, 10]\n",
        "\n",
        "#using map and lambda function\n",
        "tuple(map((lambda x: str(x)), string1))"
      ],
      "metadata": {
        "colab": {
          "base_uri": "https://localhost:8080/"
        },
        "id": "jXSdDOFP2qUd",
        "outputId": "03d6f01a-c793-4e09-d579-69a6dd7caee3"
      },
      "execution_count": 10,
      "outputs": [
        {
          "output_type": "execute_result",
          "data": {
            "text/plain": [
              "('1', '2', '3', '4', '5', '6', '7', '8', '9', '10')"
            ]
          },
          "metadata": {},
          "execution_count": 10
        }
      ]
    },
    {
      "cell_type": "markdown",
      "source": [
        "Q4. Write a python program using reduce function to compute the product of a list containing numbers from 1 to 25.\n",
        "\n",
        "Ans:"
      ],
      "metadata": {
        "id": "JbcfYXqLoAe2"
      }
    },
    {
      "cell_type": "code",
      "source": [
        "#Given list\n",
        "\n",
        "list1 = list(range(1, 26))\n",
        "print(\"Given list\", list1)\n",
        "#for using reduce functions we have to first import it\n",
        "\n",
        "from functools import reduce\n",
        "\n",
        "reduce(lambda x, y : x*y, list1)"
      ],
      "metadata": {
        "colab": {
          "base_uri": "https://localhost:8080/"
        },
        "id": "o0tHZfW24RyA",
        "outputId": "8f6adb2b-3161-4155-8101-668ed4225591"
      },
      "execution_count": 12,
      "outputs": [
        {
          "output_type": "stream",
          "name": "stdout",
          "text": [
            "Given list [1, 2, 3, 4, 5, 6, 7, 8, 9, 10, 11, 12, 13, 14, 15, 16, 17, 18, 19, 20, 21, 22, 23, 24, 25]\n"
          ]
        },
        {
          "output_type": "execute_result",
          "data": {
            "text/plain": [
              "15511210043330985984000000"
            ]
          },
          "metadata": {},
          "execution_count": 12
        }
      ]
    },
    {
      "cell_type": "markdown",
      "source": [
        "Q5. Write a python program to filter the numbers in a given list that are divisible by 2 and 3 using the filter function.\n",
        "\n",
        "[2, 3, 6, 9, 27, 60, 90, 120, 55, 46]\n",
        "\n",
        "Ans:"
      ],
      "metadata": {
        "id": "oYigkSeXoAgV"
      }
    },
    {
      "cell_type": "code",
      "source": [
        "#given list\n",
        "list2 = [2, 3, 6, 9, 27, 60, 90, 120, 55, 46]\n",
        "\n",
        "#filtering the number divisible by 2 and 3\n",
        "\n",
        "list(filter((lambda x : x % 2 == 0 and x % 3 == 0), list2 ))"
      ],
      "metadata": {
        "colab": {
          "base_uri": "https://localhost:8080/"
        },
        "id": "oi_20ZOr5cE2",
        "outputId": "4069536b-2ba1-43bc-8da7-53a522452769"
      },
      "execution_count": 16,
      "outputs": [
        {
          "output_type": "execute_result",
          "data": {
            "text/plain": [
              "[6, 60, 90, 120]"
            ]
          },
          "metadata": {},
          "execution_count": 16
        }
      ]
    },
    {
      "cell_type": "markdown",
      "source": [
        "Q6. Write a python program to find palindromes in the given list of strings using lambda and filter function.\n",
        "\n",
        "\n",
        "['python', 'php', 'aba', 'radar', 'level']\n",
        "\n",
        "Ans:"
      ],
      "metadata": {
        "id": "7kqzazQCoAiW"
      }
    },
    {
      "cell_type": "code",
      "source": [
        "#given list\n",
        "\n",
        "list3 = ['python', 'php', 'aba', 'radar', 'level']\n",
        "\n",
        "#to find palindromes using lambda and filter function\n",
        "\n",
        "list(filter((lambda x : x == x[::-1]), list3))"
      ],
      "metadata": {
        "colab": {
          "base_uri": "https://localhost:8080/"
        },
        "id": "vzB4gDH9MuzA",
        "outputId": "4456435b-b8f4-4fcc-b175-f91fdcabadcb"
      },
      "execution_count": 17,
      "outputs": [
        {
          "output_type": "execute_result",
          "data": {
            "text/plain": [
              "['php', 'aba', 'radar', 'level']"
            ]
          },
          "metadata": {},
          "execution_count": 17
        }
      ]
    },
    {
      "cell_type": "code",
      "source": [],
      "metadata": {
        "id": "RW7kNyfYNOhd"
      },
      "execution_count": null,
      "outputs": []
    }
  ]
}