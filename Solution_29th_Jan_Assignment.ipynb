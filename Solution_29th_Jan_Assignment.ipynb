{
  "nbformat": 4,
  "nbformat_minor": 0,
  "metadata": {
    "colab": {
      "provenance": []
    },
    "kernelspec": {
      "name": "python3",
      "display_name": "Python 3"
    },
    "language_info": {
      "name": "python"
    }
  },
  "cells": [
    {
      "cell_type": "markdown",
      "source": [
        "# Solution_29th Jan Assignment"
      ],
      "metadata": {
        "id": "Dd9n31RDzgWu"
      }
    },
    {
      "cell_type": "markdown",
      "source": [
        "Q1. Who developed Python Programming Language?\n",
        "\n",
        "Ans: Dutch programmer Guido Van Rossum developed the Python programming language.\n",
        "\n"
      ],
      "metadata": {
        "id": "IDt4Ka3SzgaO"
      }
    },
    {
      "cell_type": "markdown",
      "source": [
        "Q2.Which type of Programming does Python support?\n",
        "\n",
        "Ans: Python is an interpreted programming language, it supports object-oriented, structured and functional programming.\n"
      ],
      "metadata": {
        "id": "LPWtjtZM5DUV"
      }
    },
    {
      "cell_type": "markdown",
      "source": [
        "Q3. Is Python case sensitive when dealing with identifiers?\n",
        "\n",
        "Ans: Yes, Python is case sensitive when dealing with identifiers because Python is case sensitive language.\n"
      ],
      "metadata": {
        "id": "FWgvlnjz5LRB"
      }
    },
    {
      "cell_type": "markdown",
      "source": [
        "Q4.What is the correct extension of the Python file?\n",
        "\n",
        "Ans: The correct extension of the Python file is “.py”"
      ],
      "metadata": {
        "id": "M4VxxTr25Rgn"
      }
    },
    {
      "cell_type": "markdown",
      "source": [
        "\n",
        "Q5.Is Python code compiled or interpreted?\n",
        "\n",
        "Ans: Python is an interpreted language."
      ],
      "metadata": {
        "id": "a9Tf5I9v5jBd"
      }
    },
    {
      "cell_type": "markdown",
      "source": [
        "Q6. Name a few blocks of code used to define in Python langauge.\n",
        "\n",
        "Ans:A Python program is constructed from code blocks. A block is a piece of Python program text that is executed as a unit. The following are blocks: a module, a function body, and a class definition."
      ],
      "metadata": {
        "id": "F7lTQyJF5rgp"
      }
    },
    {
      "cell_type": "markdown",
      "source": [
        "Q7. State a character used to give single-line comments in Python.\n",
        "\n",
        "Ans: \"##\" is used to give a single-line comments in Python.\n"
      ],
      "metadata": {
        "id": "lU908zw55rdF"
      }
    },
    {
      "cell_type": "markdown",
      "source": [
        "Q8. Mention functions which can help us to find the version of Python that we are currently working on.\n",
        "\n",
        "Ans: 'sys.version' function is used to find the version of Python that we are currently working on."
      ],
      "metadata": {
        "id": "Y-VoIrqi5rZm"
      }
    },
    {
      "cell_type": "markdown",
      "source": [
        "Q9. Python supports the creation of anonymous functions at runtime, using a construct called\n",
        "\n",
        "Ans: Lambda"
      ],
      "metadata": {
        "id": "_79kD_Ul5rXe"
      }
    },
    {
      "cell_type": "markdown",
      "source": [
        "Q10.What does pip stand for python?\n",
        "\n",
        "Ans: pip is a standard package manager for Python. pip stands for 'PIP installs package'."
      ],
      "metadata": {
        "id": "7YKAsVOc5rVz"
      }
    },
    {
      "cell_type": "markdown",
      "source": [
        "Q11.Mention a few built-in functions in python.\n",
        "\n",
        "Ans: abs(), list(), dict(), len(), type(), range(), print() are few built-in functions in Python."
      ],
      "metadata": {
        "id": "o7d7HybI5rT5"
      }
    },
    {
      "cell_type": "markdown",
      "source": [
        "Q12. What is the maximum possible length of an identifier in Python?\n",
        "\n",
        "Ans: Maximum possible length of identifier in Python is 79 characters.\n"
      ],
      "metadata": {
        "id": "6vvncbgx5rRz"
      }
    },
    {
      "cell_type": "markdown",
      "source": [
        "Q13.What are the benefits of using Python?\n",
        "\n",
        "Ans: Python is high level, interpreted and general purpose dynamic programming language. It is powerful, flexible and easy to use langauge.\n",
        "Following are the benefits of Python.\n",
        "\n",
        "1. Presence of third party modules\n",
        "2. Extensive support libraries.\n",
        "3. Open source and community developement.\n",
        "4. Learning ease and suppport available\n",
        "5. User friendly data structure.\n",
        "6. Productivity and speed\n",
        "7. Highly efficient.\n",
        "8. IoT opportunities\n"
      ],
      "metadata": {
        "id": "qzISy_fF5rPl"
      }
    },
    {
      "cell_type": "markdown",
      "source": [
        "Q14. How is memory managed in Python?\n",
        "\n",
        "Ans: Memory management in Python involves a private heap containing all Python objects and data structures. The management of this private heap is ensured internally by the Python memory manager. The Python memory manager has different components which deal with various dynamic storage management aspects, like sharing, segmentation, preallocation or caching."
      ],
      "metadata": {
        "id": "E1Dw2J1O5rMq"
      }
    },
    {
      "cell_type": "markdown",
      "source": [
        "Q15. How to install Python on Windows and set path variables?\n",
        "\n",
        "Ans: Following are the Steps for installing python on Windows.\n",
        "1. Locate Python Installation: First, we need to locate where the Python is being installed after downloading it. Press the WINDOWS key and search for “Python”, you will get something like this.\n",
        "\n",
        "2. Verify Python Installation: If no results appear then Python is not installed on your machine, download it before proceeding further. Click on open file location and you will be in a location where Python is installed, Copy the location path from the top by clicking over it.\n",
        "\n",
        "3. Add Python to Path as an Environmental Variable: Now, we have to add the above-copied path as a variable so that windows can recognize. Search for “Environmental Variables”, Click on that. Now click on 'Environmental Variable' button\n",
        "\n",
        "4. Add Python Path to User Environmental Variables: There will be two categories namely “User” and “System”, we have to add it in Users, click on New button in the User section. Now, add a Variable Name and Path which we copied previously and click OK. That’s it, DONE!"
      ],
      "metadata": {
        "id": "rq074kDN5rGG"
      }
    },
    {
      "cell_type": "markdown",
      "source": [
        "Q16. Is indentation required in python?\n",
        "\n",
        "Ans:Yes, indentation is very important concept in Python"
      ],
      "metadata": {
        "id": "eUiXgyPa5q9w"
      }
    },
    {
      "cell_type": "code",
      "source": [],
      "metadata": {
        "id": "5xLyc8KoM53E"
      },
      "execution_count": null,
      "outputs": []
    }
  ]
}